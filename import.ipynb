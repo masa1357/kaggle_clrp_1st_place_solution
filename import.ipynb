{
 "cells": [
  {
   "attachments": {},
   "cell_type": "markdown",
   "metadata": {},
   "source": [
    "# African Storybooks からのデータ取得\n",
    "African Storybooksからデータを自動取得できるよう頑張ってみる"
   ]
  },
  {
   "cell_type": "code",
   "execution_count": null,
   "metadata": {},
   "outputs": [],
   "source": [
    "import requests"
   ]
  },
  {
   "cell_type": "code",
   "execution_count": 7,
   "metadata": {},
   "outputs": [],
   "source": [
    "def download_file(download_url, path_to_save):\n",
    "    response = requests.get(download_url)\n",
    "    with open(path_to_save, 'wb') as output_file:\n",
    "        output_file.write(response.content)\n",
    "\n",
    "# Usage\n",
    "download_url = \"https://www.africanstorybook.org/read/downloadepub.php?id=37519\"  # Replace with the URL of the .epub file you want to download\n",
    "path_to_save = \"./test/file.epub\"  # Replace with the path where you want to save the .epub file\n",
    "download_file(download_url, path_to_save)\n"
   ]
  },
  {
   "cell_type": "code",
   "execution_count": null,
   "metadata": {},
   "outputs": [],
   "source": [
    "<iframe width=\"100\" height=\"100\" id=\"downloadControl\" src=\"read/downloadepub.php?id=37519\"></iframe>"
   ]
  },
  {
   "cell_type": "code",
   "execution_count": 12,
   "metadata": {},
   "outputs": [],
   "source": [
    "def download_file(download_url, path_to_save):\n",
    "    headers = {\n",
    "        \"User-Agent\": \"Mozilla/5.0 (Windows NT 10.0; Win64; x64) AppleWebKit/537.36 (KHTML, like Gecko) Chrome/58.0.3029.110 Safari/537.3\"\n",
    "    }\n",
    "    response = requests.get(download_url, headers=headers)\n",
    "    with open(path_to_save, 'wb') as output_file:\n",
    "        output_file.write(response.content)\n",
    "\n",
    "# Usage\n",
    "download_url = \"https://www.africanstorybook.org/read/downloadepub.php?id=37519\"\n",
    "path_to_save = \"./test/file.epub\"\n",
    "download_file(download_url, path_to_save)\n"
   ]
  },
  {
   "cell_type": "code",
   "execution_count": 23,
   "metadata": {},
   "outputs": [
    {
     "name": "stdout",
     "output_type": "stream",
     "text": [
      "200\n"
     ]
    }
   ],
   "source": [
    "#モジュール読込\n",
    "import requests\n",
    "\n",
    "url = \"https://www.africanstorybook.org/\"\n",
    "response = requests.get(url)\n",
    "print(response.status_code)"
   ]
  },
  {
   "cell_type": "code",
   "execution_count": 24,
   "metadata": {},
   "outputs": [],
   "source": [
    "file = open(\"test.pdf\",\"wb\")"
   ]
  },
  {
   "cell_type": "code",
   "execution_count": 25,
   "metadata": {},
   "outputs": [],
   "source": [
    "#iter_content()メソッドでWebファイルのデータを渡す\n",
    "for chunk in response.iter_content(100000):\n",
    "    #ファイル書込\n",
    "    file.write(chunk)\n",
    "    \n",
    "#ファイルを閉じる\n",
    "file.close()"
   ]
  }
 ],
 "metadata": {
  "kernelspec": {
   "display_name": "Python 3",
   "language": "python",
   "name": "python3"
  },
  "language_info": {
   "codemirror_mode": {
    "name": "ipython",
    "version": 3
   },
   "file_extension": ".py",
   "mimetype": "text/x-python",
   "name": "python",
   "nbconvert_exporter": "python",
   "pygments_lexer": "ipython3",
   "version": "3.10.6"
  },
  "orig_nbformat": 4
 },
 "nbformat": 4,
 "nbformat_minor": 2
}
